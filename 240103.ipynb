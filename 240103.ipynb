{
  "nbformat": 4,
  "nbformat_minor": 0,
  "metadata": {
    "colab": {
      "provenance": []
    },
    "kernelspec": {
      "name": "python3",
      "display_name": "Python 3"
    },
    "language_info": {
      "name": "python"
    }
  },
  "cells": [
    {
      "cell_type": "code",
      "execution_count": 2,
      "metadata": {
        "id": "YR4YopsyPDHz"
      },
      "outputs": [],
      "source": [
        "import torch\n",
        "\n",
        "x = torch.ones(5)  # input tensor\n",
        "y = torch.zeros(3)  # expected output\n",
        "w = torch.randn(5, 3, requires_grad=True)\n",
        "b = torch.randn(3, requires_grad=True)\n",
        "z = torch.matmul(x, w)+b\n",
        "loss = torch.nn.functional.binary_cross_entropy_with_logits(z, y)"
      ]
    },
    {
      "cell_type": "code",
      "source": [
        "torch.randn(5, 3)"
      ],
      "metadata": {
        "colab": {
          "base_uri": "https://localhost:8080/"
        },
        "id": "4Ggh24ISSWhz",
        "outputId": "be0a7073-031c-4a40-e698-e0f95e0253f7"
      },
      "execution_count": 9,
      "outputs": [
        {
          "output_type": "execute_result",
          "data": {
            "text/plain": [
              "tensor([[ 0.9660, -0.4475, -0.8014],\n",
              "        [ 1.8941,  0.8553, -1.2963],\n",
              "        [ 1.3430, -0.3306, -1.0483],\n",
              "        [ 0.3871, -0.4256,  0.3176],\n",
              "        [ 0.3380, -0.5692, -1.6609]])"
            ]
          },
          "metadata": {},
          "execution_count": 9
        }
      ]
    },
    {
      "cell_type": "code",
      "source": [
        "z"
      ],
      "metadata": {
        "colab": {
          "base_uri": "https://localhost:8080/"
        },
        "id": "vsRcqRgnQnvJ",
        "outputId": "7ce396e2-de89-4725-9f52-ec21cb28a1dc"
      },
      "execution_count": 7,
      "outputs": [
        {
          "output_type": "execute_result",
          "data": {
            "text/plain": [
              "tensor([-1.0809,  2.4346, -3.8777], grad_fn=<AddBackward0>)"
            ]
          },
          "metadata": {},
          "execution_count": 7
        }
      ]
    },
    {
      "cell_type": "code",
      "source": [
        "y"
      ],
      "metadata": {
        "colab": {
          "base_uri": "https://localhost:8080/"
        },
        "id": "AvnNC4npQ5Mf",
        "outputId": "d78da24c-7526-4787-d57e-c094aadc1a57"
      },
      "execution_count": 4,
      "outputs": [
        {
          "output_type": "execute_result",
          "data": {
            "text/plain": [
              "tensor([0., 0., 0.])"
            ]
          },
          "metadata": {},
          "execution_count": 4
        }
      ]
    },
    {
      "cell_type": "code",
      "source": [
        "w"
      ],
      "metadata": {
        "colab": {
          "base_uri": "https://localhost:8080/"
        },
        "id": "VGlcC577RCG9",
        "outputId": "0792e6aa-f957-44ac-9a32-a3f87d552c96"
      },
      "execution_count": 5,
      "outputs": [
        {
          "output_type": "execute_result",
          "data": {
            "text/plain": [
              "tensor([[-1.6100, -0.8773,  0.5627],\n",
              "        [-1.6658,  1.1390, -3.4155],\n",
              "        [ 0.0907,  0.4359, -0.4352],\n",
              "        [ 0.7896,  0.7700,  1.0447],\n",
              "        [ 1.1282,  0.9367, -1.6566]], requires_grad=True)"
            ]
          },
          "metadata": {},
          "execution_count": 5
        }
      ]
    },
    {
      "cell_type": "code",
      "source": [
        "loss"
      ],
      "metadata": {
        "colab": {
          "base_uri": "https://localhost:8080/"
        },
        "id": "3aZdo-ZmX1zA",
        "outputId": "6ec69663-a432-4c85-a6b1-6ede5f46ce25"
      },
      "execution_count": 2,
      "outputs": [
        {
          "output_type": "execute_result",
          "data": {
            "text/plain": [
              "tensor(1.8739, grad_fn=<BinaryCrossEntropyWithLogitsBackward0>)"
            ]
          },
          "metadata": {},
          "execution_count": 2
        }
      ]
    },
    {
      "cell_type": "code",
      "source": [
        "w"
      ],
      "metadata": {
        "colab": {
          "base_uri": "https://localhost:8080/"
        },
        "id": "xUTg44fCZShH",
        "outputId": "5721492c-edd5-40f0-c562-d9decbc5e035"
      },
      "execution_count": 11,
      "outputs": [
        {
          "output_type": "execute_result",
          "data": {
            "text/plain": [
              "tensor([[-1.6100, -0.8773,  0.5627],\n",
              "        [-1.6658,  1.1390, -3.4155],\n",
              "        [ 0.0907,  0.4359, -0.4352],\n",
              "        [ 0.7896,  0.7700,  1.0447],\n",
              "        [ 1.1282,  0.9367, -1.6566]], requires_grad=True)"
            ]
          },
          "metadata": {},
          "execution_count": 11
        }
      ]
    },
    {
      "cell_type": "code",
      "source": [
        "loss.backward()\n",
        "print(w.grad)\n",
        "print(b.grad)"
      ],
      "metadata": {
        "colab": {
          "base_uri": "https://localhost:8080/"
        },
        "id": "eA4f-Rv1X2QC",
        "outputId": "1cc8876c-3c2e-4fee-a4a0-32a462185057"
      },
      "execution_count": 10,
      "outputs": [
        {
          "output_type": "stream",
          "name": "stdout",
          "text": [
            "tensor([[0.0844, 0.3065, 0.0068],\n",
            "        [0.0844, 0.3065, 0.0068],\n",
            "        [0.0844, 0.3065, 0.0068],\n",
            "        [0.0844, 0.3065, 0.0068],\n",
            "        [0.0844, 0.3065, 0.0068]])\n",
            "tensor([0.0844, 0.3065, 0.0068])\n"
          ]
        }
      ]
    }
  ]
}