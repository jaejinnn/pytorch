{
  "nbformat": 4,
  "nbformat_minor": 0,
  "metadata": {
    "colab": {
      "provenance": [],
      "authorship_tag": "ABX9TyNvJwkwqNJRC9nSqlpGlDgx",
      "include_colab_link": true
    },
    "kernelspec": {
      "name": "python3",
      "display_name": "Python 3"
    },
    "language_info": {
      "name": "python"
    }
  },
  "cells": [
    {
      "cell_type": "markdown",
      "metadata": {
        "id": "view-in-github",
        "colab_type": "text"
      },
      "source": [
        "<a href=\"https://colab.research.google.com/github/jaejinnn/pytorch/blob/main/240113.ipynb\" target=\"_parent\"><img src=\"https://colab.research.google.com/assets/colab-badge.svg\" alt=\"Open In Colab\"/></a>"
      ]
    },
    {
      "cell_type": "markdown",
      "source": [
        "## 03-05 클래스로 파이토치 모델 구현하기"
      ],
      "metadata": {
        "id": "0CCc6AF7S2KD"
      }
    },
    {
      "cell_type": "markdown",
      "source": [
        "### 1. 모델을 클래스로 구현하기"
      ],
      "metadata": {
        "id": "6IqFD9oDS6cY"
      }
    },
    {
      "cell_type": "code",
      "source": [
        "import torch\n",
        "import torch.nn as nn\n",
        "import torch.nn.functional as F"
      ],
      "metadata": {
        "id": "0RnlIqP8TAoW"
      },
      "execution_count": 2,
      "outputs": []
    },
    {
      "cell_type": "code",
      "source": [
        "# 모델을 선언 및 초기화. 단순 선형 회귀이므로 input_dim=1, output_dim=1.\n",
        "model = nn.Linear(1,1)"
      ],
      "metadata": {
        "id": "CEf8_DzaS71h"
      },
      "execution_count": 3,
      "outputs": []
    },
    {
      "cell_type": "code",
      "source": [
        "class LinearRegressionModel(nn.Module): # torch.nn.Module을 상속받는 파이썬 클래스\n",
        "    def __init__(self): #\n",
        "        super().__init__()\n",
        "        self.linear = nn.Linear(1, 1) # 단순 선형 회귀이므로 input_dim=1, output_dim=1.\n",
        "\n",
        "    def forward(self, x):\n",
        "        return self.linear(x)"
      ],
      "metadata": {
        "id": "w2OtsXt2S9FX"
      },
      "execution_count": 4,
      "outputs": []
    },
    {
      "cell_type": "code",
      "source": [
        "model = LinearRegressionModel()"
      ],
      "metadata": {
        "id": "_KmI8lozTCRE"
      },
      "execution_count": 5,
      "outputs": []
    },
    {
      "cell_type": "code",
      "source": [
        "# 모델을 선언 및 초기화. 다중 선형 회귀이므로 input_dim=3, output_dim=1.\n",
        "model = nn.Linear(3,1)"
      ],
      "metadata": {
        "id": "eHLI48fUTKrl"
      },
      "execution_count": 9,
      "outputs": []
    },
    {
      "cell_type": "code",
      "source": [
        "class MultivariateLinearRegressionModel(nn.Module):\n",
        "    def __init__(self):\n",
        "        super().__init__()\n",
        "        self.linear = nn.Linear(3, 1) # 다중 선형 회귀이므로 input_dim=3, output_dim=1.\n",
        "\n",
        "    def forward(self, x):\n",
        "        return self.linear(x)"
      ],
      "metadata": {
        "id": "C9GvGkmNTK5M"
      },
      "execution_count": 10,
      "outputs": []
    },
    {
      "cell_type": "code",
      "source": [
        "model = MultivariateLinearRegressionModel()"
      ],
      "metadata": {
        "id": "IgE6pLo9TMeI"
      },
      "execution_count": 12,
      "outputs": []
    },
    {
      "cell_type": "markdown",
      "source": [
        "### 2. 단순 선형 회귀 클래스로 구현하기"
      ],
      "metadata": {
        "id": "nnMNoK6MTNe7"
      }
    },
    {
      "cell_type": "code",
      "source": [
        "import torch\n",
        "import torch.nn as nn\n",
        "import torch.nn.functional as F"
      ],
      "metadata": {
        "id": "GDMSAcumTP93"
      },
      "execution_count": 13,
      "outputs": []
    },
    {
      "cell_type": "code",
      "source": [
        "torch.manual_seed(1)"
      ],
      "metadata": {
        "colab": {
          "base_uri": "https://localhost:8080/"
        },
        "id": "z4n2iwb5TRsv",
        "outputId": "3bfccfff-e8c4-453b-d52b-bb3740b82b32"
      },
      "execution_count": 15,
      "outputs": [
        {
          "output_type": "execute_result",
          "data": {
            "text/plain": [
              "<torch._C.Generator at 0x7aee22721450>"
            ]
          },
          "metadata": {},
          "execution_count": 15
        }
      ]
    },
    {
      "cell_type": "code",
      "source": [
        "# 데이터\n",
        "x_train = torch.FloatTensor([[1], [2], [3]])\n",
        "y_train = torch.FloatTensor([[2], [4], [6]])"
      ],
      "metadata": {
        "id": "8pAO60zaTSVL"
      },
      "execution_count": 16,
      "outputs": []
    },
    {
      "cell_type": "code",
      "source": [
        "class LinearRegressionModel(nn.Module):\n",
        "    def __init__(self):\n",
        "        super().__init__()\n",
        "        self.linear = nn.Linear(1, 1)\n",
        "\n",
        "    def forward(self, x):\n",
        "        return self.linear(x)"
      ],
      "metadata": {
        "id": "LA1-4arvTTug"
      },
      "execution_count": 17,
      "outputs": []
    },
    {
      "cell_type": "code",
      "source": [
        "model = LinearRegressionModel()"
      ],
      "metadata": {
        "id": "2rti1l5FTUrp"
      },
      "execution_count": 19,
      "outputs": []
    },
    {
      "cell_type": "code",
      "source": [
        "# optimizer 설정. 경사 하강법 SGD를 사용하고 learning rate를 의미하는 lr은 0.01\n",
        "optimizer = torch.optim.SGD(model.parameters(), lr=0.01)"
      ],
      "metadata": {
        "id": "Z5AC0gFETVhe"
      },
      "execution_count": 20,
      "outputs": []
    },
    {
      "cell_type": "code",
      "source": [
        "# 전체 훈련 데이터에 대해 경사 하강법을 2,000회 반복\n",
        "nb_epochs = 2000\n",
        "for epoch in range(nb_epochs+1):\n",
        "\n",
        "    # H(x) 계산\n",
        "    prediction = model(x_train)\n",
        "\n",
        "    # cost 계산\n",
        "    cost = F.mse_loss(prediction, y_train) # <== 파이토치에서 제공하는 평균 제곱 오차 함수\n",
        "\n",
        "    # cost로 H(x) 개선하는 부분\n",
        "    # gradient를 0으로 초기화\n",
        "    optimizer.zero_grad()\n",
        "    # 비용 함수를 미분하여 gradient 계산\n",
        "    cost.backward() # backward 연산\n",
        "    # W와 b를 업데이트\n",
        "    optimizer.step()\n",
        "\n",
        "    if epoch % 100 == 0:\n",
        "    # 100번마다 로그 출력\n",
        "      print('Epoch {:4d}/{} Cost: {:.6f}'.format(\n",
        "          epoch, nb_epochs, cost.item()\n",
        "      ))"
      ],
      "metadata": {
        "colab": {
          "base_uri": "https://localhost:8080/"
        },
        "id": "2PYhAj4qTXFj",
        "outputId": "62d85a54-f35f-4d0f-e2ac-c605b2884d44"
      },
      "execution_count": 21,
      "outputs": [
        {
          "output_type": "stream",
          "name": "stdout",
          "text": [
            "Epoch    0/2000 Cost: 18.562185\n",
            "Epoch  100/2000 Cost: 0.128051\n",
            "Epoch  200/2000 Cost: 0.079128\n",
            "Epoch  300/2000 Cost: 0.048896\n",
            "Epoch  400/2000 Cost: 0.030215\n",
            "Epoch  500/2000 Cost: 0.018671\n",
            "Epoch  600/2000 Cost: 0.011538\n",
            "Epoch  700/2000 Cost: 0.007129\n",
            "Epoch  800/2000 Cost: 0.004406\n",
            "Epoch  900/2000 Cost: 0.002722\n",
            "Epoch 1000/2000 Cost: 0.001682\n",
            "Epoch 1100/2000 Cost: 0.001040\n",
            "Epoch 1200/2000 Cost: 0.000642\n",
            "Epoch 1300/2000 Cost: 0.000397\n",
            "Epoch 1400/2000 Cost: 0.000245\n",
            "Epoch 1500/2000 Cost: 0.000152\n",
            "Epoch 1600/2000 Cost: 0.000094\n",
            "Epoch 1700/2000 Cost: 0.000058\n",
            "Epoch 1800/2000 Cost: 0.000036\n",
            "Epoch 1900/2000 Cost: 0.000022\n",
            "Epoch 2000/2000 Cost: 0.000014\n"
          ]
        }
      ]
    },
    {
      "cell_type": "markdown",
      "source": [
        "### 3. 다중 선형 회귀 클래스로 구현하기"
      ],
      "metadata": {
        "id": "pU8L_2aqTY1a"
      }
    },
    {
      "cell_type": "code",
      "source": [
        "import torch\n",
        "import torch.nn as nn\n",
        "import torch.nn.functional as F"
      ],
      "metadata": {
        "id": "3agZMYEETbBD"
      },
      "execution_count": 22,
      "outputs": []
    },
    {
      "cell_type": "code",
      "source": [
        "torch.manual_seed(1)"
      ],
      "metadata": {
        "colab": {
          "base_uri": "https://localhost:8080/"
        },
        "id": "_jht7KycTcs6",
        "outputId": "691ce278-6034-4578-f475-20dcf7d476c7"
      },
      "execution_count": 24,
      "outputs": [
        {
          "output_type": "execute_result",
          "data": {
            "text/plain": [
              "<torch._C.Generator at 0x7aee22721450>"
            ]
          },
          "metadata": {},
          "execution_count": 24
        }
      ]
    },
    {
      "cell_type": "code",
      "source": [
        "# 데이터\n",
        "x_train = torch.FloatTensor([[73, 80, 75],\n",
        "                             [93, 88, 93],\n",
        "                             [89, 91, 90],\n",
        "                             [96, 98, 100],\n",
        "                             [73, 66, 70]])\n",
        "y_train = torch.FloatTensor([[152], [185], [180], [196], [142]])"
      ],
      "metadata": {
        "id": "NTYQn2XYTdT_"
      },
      "execution_count": 25,
      "outputs": []
    },
    {
      "cell_type": "code",
      "source": [
        "class MultivariateLinearRegressionModel(nn.Module):\n",
        "    def __init__(self):\n",
        "        super().__init__()\n",
        "        self.linear = nn.Linear(3, 1) # 다중 선형 회귀이므로 input_dim=3, output_dim=1.\n",
        "\n",
        "    def forward(self, x):\n",
        "        return self.linear(x)"
      ],
      "metadata": {
        "id": "QDcL9pLeTekZ"
      },
      "execution_count": 26,
      "outputs": []
    },
    {
      "cell_type": "code",
      "source": [
        "model = MultivariateLinearRegressionModel()"
      ],
      "metadata": {
        "id": "0395xGTuTf48"
      },
      "execution_count": 28,
      "outputs": []
    },
    {
      "cell_type": "code",
      "source": [
        "optimizer = torch.optim.SGD(model.parameters(), lr=1e-5)"
      ],
      "metadata": {
        "id": "tHKXopUWThKp"
      },
      "execution_count": 29,
      "outputs": []
    },
    {
      "cell_type": "code",
      "source": [
        "nb_epochs = 2000\n",
        "for epoch in range(nb_epochs+1):\n",
        "\n",
        "    # H(x) 계산\n",
        "    prediction = model(x_train)\n",
        "    # model(x_train)은 model.forward(x_train)와 동일함.\n",
        "\n",
        "    # cost 계산\n",
        "    cost = F.mse_loss(prediction, y_train) # <== 파이토치에서 제공하는 평균 제곱 오차 함수\n",
        "\n",
        "    # cost로 H(x) 개선하는 부분\n",
        "    # gradient를 0으로 초기화\n",
        "    optimizer.zero_grad()\n",
        "    # 비용 함수를 미분하여 gradient 계산\n",
        "    cost.backward()\n",
        "    # W와 b를 업데이트\n",
        "    optimizer.step()\n",
        "\n",
        "    if epoch % 100 == 0:\n",
        "    # 100번마다 로그 출력\n",
        "      print('Epoch {:4d}/{} Cost: {:.6f}'.format(\n",
        "          epoch, nb_epochs, cost.item()\n",
        "      ))"
      ],
      "metadata": {
        "colab": {
          "base_uri": "https://localhost:8080/"
        },
        "id": "qSYVzooKTicQ",
        "outputId": "36fd5026-35e0-42d3-d7d8-b725ca50a7b9"
      },
      "execution_count": 30,
      "outputs": [
        {
          "output_type": "stream",
          "name": "stdout",
          "text": [
            "Epoch    0/2000 Cost: 39633.414062\n",
            "Epoch  100/2000 Cost: 11.480746\n",
            "Epoch  200/2000 Cost: 10.894592\n",
            "Epoch  300/2000 Cost: 10.339335\n",
            "Epoch  400/2000 Cost: 9.813341\n",
            "Epoch  500/2000 Cost: 9.314991\n",
            "Epoch  600/2000 Cost: 8.842943\n",
            "Epoch  700/2000 Cost: 8.395709\n",
            "Epoch  800/2000 Cost: 7.972019\n",
            "Epoch  900/2000 Cost: 7.570613\n",
            "Epoch 1000/2000 Cost: 7.190366\n",
            "Epoch 1100/2000 Cost: 6.830102\n",
            "Epoch 1200/2000 Cost: 6.488800\n",
            "Epoch 1300/2000 Cost: 6.165435\n",
            "Epoch 1400/2000 Cost: 5.859081\n",
            "Epoch 1500/2000 Cost: 5.568858\n",
            "Epoch 1600/2000 Cost: 5.293914\n",
            "Epoch 1700/2000 Cost: 5.033381\n",
            "Epoch 1800/2000 Cost: 4.786536\n",
            "Epoch 1900/2000 Cost: 4.552677\n",
            "Epoch 2000/2000 Cost: 4.331120\n"
          ]
        }
      ]
    },
    {
      "cell_type": "markdown",
      "source": [
        "## 03-06 미니 배치와 데이터 로드(Mini Batch and Data Load)"
      ],
      "metadata": {
        "id": "vsuDjnvUTkZt"
      }
    },
    {
      "cell_type": "markdown",
      "source": [
        "### 1. 미니 배치와 배치 크기(Mini Batch and Batch Size)"
      ],
      "metadata": {
        "id": "AclVwL9VToie"
      }
    },
    {
      "cell_type": "code",
      "source": [
        "x_train = torch.FloatTensor([[73, 80, 75],\n",
        "                             [93, 88, 93],\n",
        "                             [89, 91, 90],\n",
        "                             [96, 98, 100],\n",
        "                             [73, 66, 70]])\n",
        "y_train = torch.FloatTensor([[152], [185], [180], [196], [142]])"
      ],
      "metadata": {
        "id": "wtXpYuZrTqea"
      },
      "execution_count": 31,
      "outputs": []
    },
    {
      "cell_type": "markdown",
      "source": [
        "### 2. 이터레이션(Iteration)"
      ],
      "metadata": {
        "id": "waGKqJa-TseC"
      }
    },
    {
      "cell_type": "markdown",
      "source": [
        "### 3. 데이터 로드하기(Data Load)"
      ],
      "metadata": {
        "id": "tiBNVmvHbTMP"
      }
    },
    {
      "cell_type": "code",
      "source": [
        "import torch\n",
        "import torch.nn as nn\n",
        "import torch.nn.functional as F"
      ],
      "metadata": {
        "id": "4zBchTYJbU1b"
      },
      "execution_count": 32,
      "outputs": []
    },
    {
      "cell_type": "code",
      "source": [
        "from torch.utils.data import TensorDataset # 텐서데이터셋\n",
        "from torch.utils.data import DataLoader # 데이터로더"
      ],
      "metadata": {
        "id": "_shFdd1MbWCg"
      },
      "execution_count": 33,
      "outputs": []
    },
    {
      "cell_type": "code",
      "source": [
        "x_train  =  torch.FloatTensor([[73,  80,  75],\n",
        "                               [93,  88,  93],\n",
        "                               [89,  91,  90],\n",
        "                               [96,  98,  100],\n",
        "                               [73,  66,  70]])\n",
        "y_train  =  torch.FloatTensor([[152],  [185],  [180],  [196],  [142]])"
      ],
      "metadata": {
        "id": "GAe_R9KQbXkO"
      },
      "execution_count": 56,
      "outputs": []
    },
    {
      "cell_type": "code",
      "source": [
        "dataset = TensorDataset(x_train, y_train)"
      ],
      "metadata": {
        "id": "5spYKr85bZD7"
      },
      "execution_count": 57,
      "outputs": []
    },
    {
      "cell_type": "code",
      "source": [
        "dataloader = DataLoader(dataset, batch_size=2, shuffle=True)"
      ],
      "metadata": {
        "id": "L5l6L24MbarY"
      },
      "execution_count": 58,
      "outputs": []
    },
    {
      "cell_type": "code",
      "source": [
        "model = nn.Linear(3,1)\n",
        "optimizer = torch.optim.SGD(model.parameters(), lr=1e-5)"
      ],
      "metadata": {
        "id": "eABa7Zlsbfio"
      },
      "execution_count": 59,
      "outputs": []
    },
    {
      "cell_type": "code",
      "source": [
        "nb_epochs = 20\n",
        "for epoch in range(nb_epochs + 1):\n",
        "  for batch_idx, samples in enumerate(dataloader):\n",
        "    # print(batch_idx)\n",
        "    # print(samples)\n",
        "    x_train, y_train = samples\n",
        "    # H(x) 계산\n",
        "    prediction = model(x_train)\n",
        "\n",
        "    # cost 계산\n",
        "    cost = F.mse_loss(prediction, y_train)\n",
        "\n",
        "    # cost로 H(x) 계산\n",
        "    optimizer.zero_grad()\n",
        "    cost.backward()\n",
        "    optimizer.step()\n",
        "\n",
        "    print('Epoch {:4d}/{} Batch {}/{} Cost: {:.6f}'.format(\n",
        "        epoch, nb_epochs, batch_idx+1, len(dataloader),\n",
        "        cost.item()\n",
        "        ))"
      ],
      "metadata": {
        "colab": {
          "base_uri": "https://localhost:8080/"
        },
        "id": "lPJdZsNibgz4",
        "outputId": "368e1370-09c8-4801-d202-d4792422086c"
      },
      "execution_count": 60,
      "outputs": [
        {
          "output_type": "stream",
          "name": "stdout",
          "text": [
            "Epoch    0/20 Batch 1/3 Cost: 8343.354492\n",
            "Epoch    0/20 Batch 2/3 Cost: 1426.161499\n",
            "Epoch    0/20 Batch 3/3 Cost: 1112.988403\n",
            "Epoch    1/20 Batch 1/3 Cost: 200.030579\n",
            "Epoch    1/20 Batch 2/3 Cost: 30.962631\n",
            "Epoch    1/20 Batch 3/3 Cost: 11.880800\n",
            "Epoch    2/20 Batch 1/3 Cost: 5.754392\n",
            "Epoch    2/20 Batch 2/3 Cost: 2.274139\n",
            "Epoch    2/20 Batch 3/3 Cost: 0.024620\n",
            "Epoch    3/20 Batch 1/3 Cost: 0.549288\n",
            "Epoch    3/20 Batch 2/3 Cost: 0.362169\n",
            "Epoch    3/20 Batch 3/3 Cost: 0.397599\n",
            "Epoch    4/20 Batch 1/3 Cost: 0.306390\n",
            "Epoch    4/20 Batch 2/3 Cost: 0.307105\n",
            "Epoch    4/20 Batch 3/3 Cost: 0.234279\n",
            "Epoch    5/20 Batch 1/3 Cost: 0.392011\n",
            "Epoch    5/20 Batch 2/3 Cost: 0.270754\n",
            "Epoch    5/20 Batch 3/3 Cost: 0.202044\n",
            "Epoch    6/20 Batch 1/3 Cost: 0.319352\n",
            "Epoch    6/20 Batch 2/3 Cost: 0.232862\n",
            "Epoch    6/20 Batch 3/3 Cost: 0.741623\n",
            "Epoch    7/20 Batch 1/3 Cost: 0.449567\n",
            "Epoch    7/20 Batch 2/3 Cost: 0.289404\n",
            "Epoch    7/20 Batch 3/3 Cost: 0.388739\n",
            "Epoch    8/20 Batch 1/3 Cost: 0.077758\n",
            "Epoch    8/20 Batch 2/3 Cost: 0.729061\n",
            "Epoch    8/20 Batch 3/3 Cost: 0.325048\n",
            "Epoch    9/20 Batch 1/3 Cost: 0.358532\n",
            "Epoch    9/20 Batch 2/3 Cost: 0.266573\n",
            "Epoch    9/20 Batch 3/3 Cost: 0.334334\n",
            "Epoch   10/20 Batch 1/3 Cost: 0.364695\n",
            "Epoch   10/20 Batch 2/3 Cost: 0.205667\n",
            "Epoch   10/20 Batch 3/3 Cost: 0.660379\n",
            "Epoch   11/20 Batch 1/3 Cost: 0.278101\n",
            "Epoch   11/20 Batch 2/3 Cost: 0.359203\n",
            "Epoch   11/20 Batch 3/3 Cost: 0.534990\n",
            "Epoch   12/20 Batch 1/3 Cost: 0.319296\n",
            "Epoch   12/20 Batch 2/3 Cost: 0.272181\n",
            "Epoch   12/20 Batch 3/3 Cost: 0.399757\n",
            "Epoch   13/20 Batch 1/3 Cost: 0.305782\n",
            "Epoch   13/20 Batch 2/3 Cost: 0.242441\n",
            "Epoch   13/20 Batch 3/3 Cost: 0.725757\n",
            "Epoch   14/20 Batch 1/3 Cost: 0.305950\n",
            "Epoch   14/20 Batch 2/3 Cost: 0.364948\n",
            "Epoch   14/20 Batch 3/3 Cost: 0.452380\n",
            "Epoch   15/20 Batch 1/3 Cost: 0.319781\n",
            "Epoch   15/20 Batch 2/3 Cost: 0.272740\n",
            "Epoch   15/20 Batch 3/3 Cost: 0.400722\n",
            "Epoch   16/20 Batch 1/3 Cost: 0.390135\n",
            "Epoch   16/20 Batch 2/3 Cost: 0.269245\n",
            "Epoch   16/20 Batch 3/3 Cost: 0.204908\n",
            "Epoch   17/20 Batch 1/3 Cost: 0.364898\n",
            "Epoch   17/20 Batch 2/3 Cost: 0.160919\n",
            "Epoch   17/20 Batch 3/3 Cost: 0.732819\n",
            "Epoch   18/20 Batch 1/3 Cost: 0.161549\n",
            "Epoch   18/20 Batch 2/3 Cost: 0.652655\n",
            "Epoch   18/20 Batch 3/3 Cost: 0.279961\n",
            "Epoch   19/20 Batch 1/3 Cost: 0.413279\n",
            "Epoch   19/20 Batch 2/3 Cost: 0.273937\n",
            "Epoch   19/20 Batch 3/3 Cost: 0.230176\n",
            "Epoch   20/20 Batch 1/3 Cost: 0.425695\n",
            "Epoch   20/20 Batch 2/3 Cost: 0.279634\n",
            "Epoch   20/20 Batch 3/3 Cost: 0.222295\n"
          ]
        }
      ]
    },
    {
      "cell_type": "code",
      "source": [
        "# 임의의 입력 [73, 80, 75]를 선언\n",
        "new_var =  torch.FloatTensor([[73, 80, 75]])\n",
        "# 입력한 값 [73, 80, 75]에 대해서 예측값 y를 리턴받아서 pred_y에 저장\n",
        "pred_y = model(new_var)\n",
        "print(\"훈련 후 입력이 73, 80, 75일 때의 예측값 :\", pred_y)"
      ],
      "metadata": {
        "colab": {
          "base_uri": "https://localhost:8080/"
        },
        "id": "UISlAnnXboFJ",
        "outputId": "71b51aa0-3540-43ad-bca7-daf002e56e8e"
      },
      "execution_count": 68,
      "outputs": [
        {
          "output_type": "stream",
          "name": "stdout",
          "text": [
            "훈련 후 입력이 73, 80, 75일 때의 예측값 : tensor([[151.7467]], grad_fn=<AddmmBackward0>)\n"
          ]
        }
      ]
    },
    {
      "cell_type": "markdown",
      "source": [
        "## 03-07 커스텀 데이터셋(Custom Dataset)"
      ],
      "metadata": {
        "id": "ilMZq9jGcQfT"
      }
    },
    {
      "cell_type": "markdown",
      "source": [
        "### 1. 커스텀 데이터셋(Custom Dataset)"
      ],
      "metadata": {
        "id": "1CeJ-6JmdQs8"
      }
    },
    {
      "cell_type": "code",
      "source": [
        "class CustomDataset(torch.utils.data.Dataset):\n",
        "  def __init__(self):\n",
        "\n",
        "  def __len__(self):\n",
        "\n",
        "  def __getitem__(self, idx):"
      ],
      "metadata": {
        "id": "li-DR8VDdmOG"
      },
      "execution_count": null,
      "outputs": []
    },
    {
      "cell_type": "code",
      "source": [
        "import torch\n",
        "import torch.nn.functional as F\n",
        "from torch.utils.data import Dataset\n",
        "from torch.utils.data import DataLoader"
      ],
      "metadata": {
        "id": "BJHy0Ll0dTKV"
      },
      "execution_count": 70,
      "outputs": []
    },
    {
      "cell_type": "code",
      "source": [
        "# Dataset 상속\n",
        "class CustomDataset(Dataset):\n",
        "  def __init__(self):\n",
        "    self.x_data = [[73, 80, 75],\n",
        "                   [93, 88, 93],\n",
        "                   [89, 91, 90],\n",
        "                   [96, 98, 100],\n",
        "                   [73, 66, 70]]\n",
        "    self.y_data = [[152], [185], [180], [196], [142]]\n",
        "\n",
        "  # 총 데이터의 개수를 리턴\n",
        "  def __len__(self):\n",
        "    return len(self.x_data)\n",
        "\n",
        "  # 인덱스를 입력받아 그에 맵핑되는 입출력 데이터를 파이토치의 Tensor 형태로 리턴\n",
        "  def __getitem__(self, idx):\n",
        "    x = torch.FloatTensor(self.x_data[idx])\n",
        "    y = torch.FloatTensor(self.y_data[idx])\n",
        "    return x, y"
      ],
      "metadata": {
        "id": "iM5ltyUEdgC9"
      },
      "execution_count": 71,
      "outputs": []
    },
    {
      "cell_type": "code",
      "source": [
        "dataset = CustomDataset()\n",
        "dataloader = DataLoader(dataset, batch_size=2, shuffle=True)"
      ],
      "metadata": {
        "id": "hfNFTjUedyG2"
      },
      "execution_count": 76,
      "outputs": []
    },
    {
      "cell_type": "code",
      "source": [
        "model = torch.nn.Linear(3,1)\n",
        "optimizer = torch.optim.SGD(model.parameters(), lr=1e-5)"
      ],
      "metadata": {
        "id": "6e6BIJ_Od487"
      },
      "execution_count": 77,
      "outputs": []
    },
    {
      "cell_type": "code",
      "source": [
        "nb_epochs = 20\n",
        "for epoch in range(nb_epochs + 1):\n",
        "  for batch_idx, samples in enumerate(dataloader):\n",
        "    # print(batch_idx)\n",
        "    # print(samples)\n",
        "    x_train, y_train = samples\n",
        "    # H(x) 계산\n",
        "    prediction = model(x_train)\n",
        "\n",
        "    # cost 계산\n",
        "    cost = F.mse_loss(prediction, y_train)\n",
        "\n",
        "    # cost로 H(x) 계산\n",
        "    optimizer.zero_grad()\n",
        "    cost.backward()\n",
        "    optimizer.step()\n",
        "\n",
        "    print('Epoch {:4d}/{} Batch {}/{} Cost: {:.6f}'.format(\n",
        "        epoch, nb_epochs, batch_idx+1, len(dataloader),\n",
        "        cost.item()\n",
        "        ))"
      ],
      "metadata": {
        "colab": {
          "base_uri": "https://localhost:8080/"
        },
        "id": "_okmozhgd5YI",
        "outputId": "a68233c8-242f-4112-d23e-b26cb3f0f048"
      },
      "execution_count": 79,
      "outputs": [
        {
          "output_type": "stream",
          "name": "stdout",
          "text": [
            "Epoch    0/20 Batch 1/3 Cost: 26223.976562\n",
            "Epoch    0/20 Batch 2/3 Cost: 11275.369141\n",
            "Epoch    0/20 Batch 3/3 Cost: 4022.767822\n",
            "Epoch    1/20 Batch 1/3 Cost: 973.816162\n",
            "Epoch    1/20 Batch 2/3 Cost: 143.515045\n",
            "Epoch    1/20 Batch 3/3 Cost: 17.435619\n",
            "Epoch    2/20 Batch 1/3 Cost: 43.817715\n",
            "Epoch    2/20 Batch 2/3 Cost: 1.350063\n",
            "Epoch    2/20 Batch 3/3 Cost: 26.018312\n",
            "Epoch    3/20 Batch 1/3 Cost: 3.357798\n",
            "Epoch    3/20 Batch 2/3 Cost: 5.251723\n",
            "Epoch    3/20 Batch 3/3 Cost: 9.332607\n",
            "Epoch    4/20 Batch 1/3 Cost: 2.698937\n",
            "Epoch    4/20 Batch 2/3 Cost: 5.873086\n",
            "Epoch    4/20 Batch 3/3 Cost: 6.788309\n",
            "Epoch    5/20 Batch 1/3 Cost: 6.273944\n",
            "Epoch    5/20 Batch 2/3 Cost: 4.461147\n",
            "Epoch    5/20 Batch 3/3 Cost: 5.619047\n",
            "Epoch    6/20 Batch 1/3 Cost: 7.004045\n",
            "Epoch    6/20 Batch 2/3 Cost: 2.389186\n",
            "Epoch    6/20 Batch 3/3 Cost: 5.168796\n",
            "Epoch    7/20 Batch 1/3 Cost: 2.243939\n",
            "Epoch    7/20 Batch 2/3 Cost: 10.275814\n",
            "Epoch    7/20 Batch 3/3 Cost: 4.214094\n",
            "Epoch    8/20 Batch 1/3 Cost: 2.555760\n",
            "Epoch    8/20 Batch 2/3 Cost: 5.908331\n",
            "Epoch    8/20 Batch 3/3 Cost: 7.292373\n",
            "Epoch    9/20 Batch 1/3 Cost: 6.724259\n",
            "Epoch    9/20 Batch 2/3 Cost: 2.386766\n",
            "Epoch    9/20 Batch 3/3 Cost: 4.920076\n",
            "Epoch   10/20 Batch 1/3 Cost: 0.686159\n",
            "Epoch   10/20 Batch 2/3 Cost: 6.324829\n",
            "Epoch   10/20 Batch 3/3 Cost: 7.665318\n",
            "Epoch   11/20 Batch 1/3 Cost: 5.771289\n",
            "Epoch   11/20 Batch 2/3 Cost: 4.288675\n",
            "Epoch   11/20 Batch 3/3 Cost: 1.266861\n",
            "Epoch   12/20 Batch 1/3 Cost: 5.680917\n",
            "Epoch   12/20 Batch 2/3 Cost: 3.401947\n",
            "Epoch   12/20 Batch 3/3 Cost: 3.230624\n",
            "Epoch   13/20 Batch 1/3 Cost: 4.328880\n",
            "Epoch   13/20 Batch 2/3 Cost: 4.431541\n",
            "Epoch   13/20 Batch 3/3 Cost: 9.696891\n",
            "Epoch   14/20 Batch 1/3 Cost: 5.467021\n",
            "Epoch   14/20 Batch 2/3 Cost: 4.476845\n",
            "Epoch   14/20 Batch 3/3 Cost: 5.779836\n",
            "Epoch   15/20 Batch 1/3 Cost: 6.234970\n",
            "Epoch   15/20 Batch 2/3 Cost: 4.397448\n",
            "Epoch   15/20 Batch 3/3 Cost: 1.637381\n",
            "Epoch   16/20 Batch 1/3 Cost: 3.996991\n",
            "Epoch   16/20 Batch 2/3 Cost: 3.202052\n",
            "Epoch   16/20 Batch 3/3 Cost: 7.218392\n",
            "Epoch   17/20 Batch 1/3 Cost: 1.845294\n",
            "Epoch   17/20 Batch 2/3 Cost: 12.684540\n",
            "Epoch   17/20 Batch 3/3 Cost: 0.948169\n",
            "Epoch   18/20 Batch 1/3 Cost: 3.410911\n",
            "Epoch   18/20 Batch 2/3 Cost: 4.203999\n",
            "Epoch   18/20 Batch 3/3 Cost: 6.757652\n",
            "Epoch   19/20 Batch 1/3 Cost: 5.168697\n",
            "Epoch   19/20 Batch 2/3 Cost: 5.916823\n",
            "Epoch   19/20 Batch 3/3 Cost: 0.265476\n",
            "Epoch   20/20 Batch 1/3 Cost: 5.814085\n",
            "Epoch   20/20 Batch 2/3 Cost: 3.535603\n",
            "Epoch   20/20 Batch 3/3 Cost: 2.936138\n"
          ]
        }
      ]
    },
    {
      "cell_type": "code",
      "source": [
        "# 임의의 입력 [73, 80, 75]를 선언\n",
        "new_var =  torch.FloatTensor([[73, 80, 75]])\n",
        "# 입력한 값 [73, 80, 75]에 대해서 예측값 y를 리턴받아서 pred_y에 저장\n",
        "pred_y = model(new_var)\n",
        "print(\"훈련 후 입력이 73, 80, 75일 때의 예측값 :\", pred_y)"
      ],
      "metadata": {
        "colab": {
          "base_uri": "https://localhost:8080/"
        },
        "id": "3tNJ8v2reDly",
        "outputId": "59172e4d-292f-4f8c-d386-15383aaee8ac"
      },
      "execution_count": 80,
      "outputs": [
        {
          "output_type": "stream",
          "name": "stdout",
          "text": [
            "훈련 후 입력이 73, 80, 75일 때의 예측값 : tensor([[153.8296]], grad_fn=<AddmmBackward0>)\n"
          ]
        }
      ]
    }
  ]
}